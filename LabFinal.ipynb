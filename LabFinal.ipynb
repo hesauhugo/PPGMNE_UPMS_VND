{
 "cells": [
  {
   "cell_type": "code",
   "execution_count": 1,
   "id": "44a67c50",
   "metadata": {},
   "outputs": [],
   "source": [
    "import numpy as np\n",
    "import random as rd\n",
    "import copy\n",
    "import time"
   ]
  },
  {
   "cell_type": "code",
   "execution_count": 2,
   "id": "0830b9ff",
   "metadata": {},
   "outputs": [],
   "source": [
    "#melhorar depois para escolher a que tem menos tempo com base na matriz de setup + processamento.\n",
    "def SolucaoInicial(N,M):\n",
    "    #print(\"imput = \",\"N=\",N,\"M=\",M)\n",
    "    solucaoInicial= []\n",
    "    tarefas = N.copy()\n",
    "    #print(tarefas)\n",
    "    for i in range(len(M)):\n",
    "        if i == (len(M)-1):\n",
    "            solucaoInicial.append(tarefas)\n",
    "        else:\n",
    "            #print(\"i = \", i,\"tarefas = \", tarefas,)\n",
    "            \n",
    "            qtdMaximaSorteio = int(len(tarefas)/len(M))\n",
    "            posicaoSorteada = 1\n",
    "            if qtdMaximaSorteio >1:\n",
    "                posicaoSorteada =rd.randint(1,qtdMaximaSorteio)\n",
    "            #print(posicaoSorteada)\n",
    "            solucaoInicial.append(tarefas[:posicaoSorteada])\n",
    "            #print(solucaoInicial)\n",
    "            del tarefas[:posicaoSorteada]\n",
    "            #print(tarefas)\n",
    "    return solucaoInicial\n",
    "\n"
   ]
  },
  {
   "cell_type": "code",
   "execution_count": 3,
   "id": "6e26a64d",
   "metadata": {},
   "outputs": [],
   "source": [
    "def FO(x,p_ij,s_ijk):\n",
    "    #print(\"FO imput x\",x)\n",
    "    makespan = 0\n",
    "\n",
    "    for i in range(len(x)):\n",
    "        #print(x[i])\n",
    "        for j in range(len(x[i])):\n",
    "            #print(\"i\",i,\"j\",x[i][j],\"processamento\",p_ij[i][x[i][j]])\n",
    "            makespan +=p_ij[i][x[i][j]]\n",
    "            if j < (len(x[i])-1):\n",
    "                makespan += s_ijk[i][x[i][j]][x[i][j+1]]\n",
    "                #print(\"i\",i,\"j\",x[i][j],x[i][j+1],s_ijk[i][x[i][j]][x[i][j+1]])\n",
    "            #print(i,x[i])\n",
    "    return makespan        "
   ]
  },
  {
   "cell_type": "code",
   "execution_count": 4,
   "id": "dee40cb3",
   "metadata": {},
   "outputs": [],
   "source": [
    "def FOMaq(x,i,p_ij,s_ijk):\n",
    "    #print(\"FO imput x\",x)\n",
    "    makespan = 0\n",
    "\n",
    "    for j in range(len(x)):\n",
    "        #print(\"i\",i,\"j\",x[i][j],\"processamento\",p_ij[i][x[i][j]])\n",
    "        makespan +=p_ij[i][x[j]]\n",
    "        if j < (len(x)-1):\n",
    "            makespan += s_ijk[i][x[j]][x[j+1]]\n",
    "            #print(\"i\",i,\"j\",x[i][j],x[i][j+1],s_ijk[i][x[i][j]][x[i][j+1]])\n",
    "        #print(i,x[i])\n",
    "    return makespan"
   ]
  },
  {
   "cell_type": "code",
   "execution_count": 5,
   "id": "13d526aa",
   "metadata": {},
   "outputs": [],
   "source": [
    "def OrdenaVizinhancas(NL,NLFO):\n",
    "    NovoNL = []\n",
    "    NovoNLFO = []\n",
    "    \n",
    "    for i in range(len(NLFO)):\n",
    "        indice = NLFO.index(min(NLFO))\n",
    "        #print(\"ONLFO\",NLFO)\n",
    "        NovoNLFO.append(NLFO[indice])\n",
    "        NovoNL.append(NL[indice])\n",
    "        #print(\"ONovoNLFO\",NovoNLFO)\n",
    "        del NLFO[indice]\n",
    "        del NL[indice]\n",
    "        #print(\"ONLFO\",NLFO)\n",
    "        #print(\"'NL\",NL)\n",
    "\n",
    "    #print(\"*NLFO\",NLFO)\n",
    "    #print(\"*NovoNLFO\",NovoNLFO)  \n",
    "    #print(\"*NovoNL\",NovoNL)  \n",
    "    return NovoNL,NovoNLFO\n"
   ]
  },
  {
   "cell_type": "code",
   "execution_count": 6,
   "id": "08b30521",
   "metadata": {},
   "outputs": [],
   "source": [
    "def Switch(x):\n",
    "    xLinha = x.copy()\n",
    "    #print(\"xLinha\",xLinha)                        \n",
    "    PosicaoMaquinaUm = rd.randint(0, (len(xLinha)-1))\n",
    "    PosicaoMaquinaDois=-1\n",
    "    #sorteia a posição de uma máquina\n",
    "    while True:\n",
    "        posicao = rd.randint(0, (len(xLinha)-1))\n",
    "\n",
    "        if posicao != PosicaoMaquinaUm:\n",
    "            PosicaoMaquinaDois = posicao\n",
    "            break\n",
    "\n",
    "    #print(\"PosicaoMaquinaUm\",PosicaoMaquinaUm,\"PosicaoMaquinaDois\",PosicaoMaquinaDois)\n",
    "    #tarefa que será removida da máquina 1 e 2\n",
    "    PosicaoTarefaRemovidaMaquinaUm = rd.randint(0,(len(xLinha[PosicaoMaquinaUm])-1))\n",
    "    PosicaoTarefaRemovidaMaquinaDois = rd.randint(0, (len(xLinha[PosicaoMaquinaDois])-1))\n",
    "\n",
    "    #print(\"PosicaoTarefaRemovidaMaquinaUm\",PosicaoTarefaRemovidaMaquinaUm,\"PosicaoTarefaRemovidaMaquinaDois\",PosicaoTarefaRemovidaMaquinaDois)\n",
    "    #tarefas que serão inseridas máquina 1 e 2\n",
    "    PosicaoTarefaInseridaMaquinaUm = rd.randint(0,(len(xLinha[PosicaoMaquinaUm])-1))\n",
    "    PosicaoTarefaInseridaMaquinaDois = rd.randint(0, (len(xLinha[PosicaoMaquinaDois])-1))\n",
    "\n",
    "    #print(\"PosicaoTarefaInseridaMaquinaUm\",PosicaoTarefaInseridaMaquinaUm,\"PosicaoTarefaInseridaMaquinaDois\",PosicaoTarefaInseridaMaquinaDois)\n",
    "\n",
    "\n",
    "    #pega o valor das que foram removidas\n",
    "    ValorInserirMaquinaUm = xLinha[PosicaoMaquinaDois][PosicaoTarefaRemovidaMaquinaDois]\n",
    "    ValorInserirMaquinaDois = xLinha[PosicaoMaquinaUm][PosicaoTarefaRemovidaMaquinaUm]\n",
    "\n",
    "    xLinha[PosicaoMaquinaUm].insert(PosicaoTarefaInseridaMaquinaUm,ValorInserirMaquinaUm)\n",
    "    xLinha[PosicaoMaquinaDois].insert(PosicaoTarefaInseridaMaquinaDois,ValorInserirMaquinaDois)\n",
    "\n",
    "    if PosicaoTarefaInseridaMaquinaUm <= PosicaoTarefaRemovidaMaquinaUm:\n",
    "        PosicaoTarefaRemovidaMaquinaUm += 1\n",
    "\n",
    "    if PosicaoTarefaInseridaMaquinaDois <= PosicaoTarefaRemovidaMaquinaDois:\n",
    "        PosicaoTarefaRemovidaMaquinaDois += 1\n",
    "\n",
    "    #print(\"'PosicaoTarefaRemovidaMaquinaUm\",PosicaoTarefaRemovidaMaquinaUm,\"'PosicaoTarefaRemovidaMaquinaDois\",PosicaoTarefaRemovidaMaquinaDois)\n",
    "\n",
    "    del xLinha[PosicaoMaquinaDois][PosicaoTarefaRemovidaMaquinaDois]\n",
    "    del xLinha[PosicaoMaquinaUm][PosicaoTarefaRemovidaMaquinaUm]\n",
    "\n",
    "\n",
    "    #print(\"xLinha\",xLinha)\n",
    "    return xLinha\n"
   ]
  },
  {
   "cell_type": "code",
   "execution_count": 7,
   "id": "9f70d50e",
   "metadata": {},
   "outputs": [],
   "source": [
    "def RetornaSolucaoInicial(Lmax,N,M,p_ij,s_ijk):\n",
    "    #print(\"imput = \",\"Lmax = \",Lmax,\"N=\",N,\"M=\",M,\"p_ij=\",p_ij,\"s_ijk=\",s_ijk)\n",
    "    NL=[]\n",
    "    NLFO = []\n",
    "    for i in range(Lmax):\n",
    "        x = SolucaoInicial(N,M)\n",
    "        NL.append(x)\n",
    "        NLFO.append(FO(x,p_ij,s_ijk))\n",
    "    NL , NLFO =OrdenaVizinhancas(NL,NLFO)      \n",
    "    return   NL , NLFO     \n",
    "    "
   ]
  },
  {
   "cell_type": "code",
   "execution_count": 8,
   "id": "ccc73248",
   "metadata": {},
   "outputs": [],
   "source": [
    "def BuscaLocalSwitch(NL,NLFO,p_ij,s_ijk,Lmax):\n",
    "    \n",
    "    BestNL = NL.copy()\n",
    "    BestNLFO = NLFO.copy()\n",
    "    _NL=[]\n",
    "    _NLFO=[]\n",
    "    _Lmax = Lmax\n",
    "    _NL=[]\n",
    "    _NLFO=[]\n",
    "    L=0\n",
    "    while L < _Lmax:\n",
    "        for k in range(_Lmax):\n",
    "            #copia profunda\n",
    "            TempNL = copy.deepcopy(BestNL)\n",
    "            xx= TempNL[L].copy()\n",
    "            x = xx.copy()\n",
    "            #faz a troca\n",
    "            _x = Switch(x.copy()).copy()\n",
    "            #cria novas listas\n",
    "            _NL.append(_x.copy())\n",
    "            _NLFO.append(FO(_x.copy(),p_ij,s_ijk))\n",
    "            \n",
    "            \n",
    "\n",
    "        _NL,_NLFO = OrdenaVizinhancas(_NL,_NLFO) \n",
    "        #print(\"L = \",L,\"_nlfo = \",_NLFO[0],\"bestfo = \",BestNLFO[0])\n",
    "        if _NLFO[0]<BestNLFO[0]:\n",
    "            L=0\n",
    "            BestNL,BestNLFO = copy.deepcopy(_NL.copy()) , copy.deepcopy(_NLFO.copy())            \n",
    "        else:\n",
    "            L+=1\n",
    "\n",
    "    return BestNL,BestNLFO\n",
    "            \n",
    "        \n",
    "        \n",
    "    \n",
    "    \n",
    "    "
   ]
  },
  {
   "cell_type": "code",
   "execution_count": 9,
   "id": "8e3da968",
   "metadata": {},
   "outputs": [],
   "source": [
    "def PrintMakespan(NL,NLFO,p_ij,s_ijk):\n",
    "    for i in range(len(NL)):\n",
    "        print(\"i\",NL[i],NLFO[i],FO(NL[i],p_ij,s_ijk))"
   ]
  },
  {
   "cell_type": "code",
   "execution_count": 10,
   "id": "5f5223c9",
   "metadata": {},
   "outputs": [],
   "source": [
    "def RetornaMaquinaMaiorMakespan(NL,p_ij,s_ijk):\n",
    "    indice = -1\n",
    "    valor = -1\n",
    "    for i in range(len(M)):\n",
    "        fomaq = FOMaq(NL[0][i],i,p_ij,s_ijk)\n",
    "        #print(\"m\",fomaq)   \n",
    "        if fomaq > valor and len(NL[0][i])>1 :\n",
    "            valor = fomaq\n",
    "            indice = i\n",
    "            \n",
    "    return valor,indice            \n",
    "           \n",
    "    "
   ]
  },
  {
   "cell_type": "code",
   "execution_count": 11,
   "id": "f5106798",
   "metadata": {},
   "outputs": [],
   "source": [
    "def Insert(PosicoesRetiradaTarefas,x,M,PosicaoMaquinaComMaiorMakespan,p_ij,s_ijk):\n",
    "    #print(\"inser Imput:\",\"posicoes = \",PosicoesRetiradaTarefas,\"x = \",x,\"m = \",M,\"maq\",PosicaoMaquinaComMaiorMakespan,p_ij,s_ijk)\n",
    "    _NL = []\n",
    "    _NLFO = []\n",
    "    for i in range(len(M)):\n",
    "        if i == PosicaoMaquinaComMaiorMakespan:\n",
    "            continue\n",
    "        for j in range(len(PosicoesRetiradaTarefas)):\n",
    "            for k in range((len(x[i])+1)):\n",
    "                _x = copy.deepcopy(x.copy())\n",
    "                valor =_x[PosicaoMaquinaComMaiorMakespan][PosicoesRetiradaTarefas[j]]\n",
    "                # print(\"_x antes = \",_x,\"i=\",i,\"j=\",j,\"k =\",k,\"PosicoesRetiradaTarefas[j]= \",PosicoesRetiradaTarefas[j],\"valor=\",valor)\n",
    "                del _x[PosicaoMaquinaComMaiorMakespan][PosicoesRetiradaTarefas[j]]\n",
    "                _x[i].insert(k,valor)\n",
    "                #print(\"_x depois\",_x,\"i=\",i,\"j=\",j,\"k =\",k,\"FO(_x.copy(),p_ij,s_ijk\",FO(_x.copy(),p_ij,s_ijk))\n",
    "                _NL.append(_x.copy())\n",
    "                _NLFO.append(FO(_x.copy(),p_ij,s_ijk))\n",
    "                #print(\"insert\",\"_NL=\",_NL,\"_NLFO\",_NLFO)\n",
    "    #print(\"insert\",\"_NL=\",_NL,\"_NLFO\",_NLFO)                 \n",
    "    _NL,_NLFO = OrdenaVizinhancas(_NL,_NLFO)  \n",
    "    #print(\"insert\",\"_NL=\",_NL,\"_NLFO\",_NLFO) \n",
    "    return _NL,_NLFO            \n",
    "                "
   ]
  },
  {
   "cell_type": "code",
   "execution_count": 12,
   "id": "2e07e895",
   "metadata": {},
   "outputs": [],
   "source": [
    "def BuscaLocalInsert(IndiceMaquina,M,p_ij,s_ijk,NL,NLFO,Lmax):\n",
    "    \n",
    "    BestNL = copy.deepcopy(NL)\n",
    "    BestNLFO = copy.deepcopy(NLFO)\n",
    "    \n",
    "    if Lmax > len(BestNLFO):\n",
    "        _Lmax = len(BestNLFO)\n",
    "    else:\n",
    "        _Lmax = Lmax        \n",
    "    L =  0       \n",
    "    \n",
    "    _NL=[]\n",
    "    _NLFO=[]\n",
    "    \n",
    "    while L < _Lmax:\n",
    "        #print(\"L<Lmax\",L,_Lmax)\n",
    "        TempBestNL = copy.deepcopy(BestNL)\n",
    "        _x= copy.deepcopy(TempBestNL[L])\n",
    "        #print(\"_xcopy\",_x)\n",
    "        PosicoesRetiradaTarefas=[]\n",
    "        \n",
    "        while True:\n",
    "            for j in  range(len(_x[IndiceMaquina])):\n",
    "                porcentagem = rd.randint(1,100)\n",
    "                if porcentagem <= 50:\n",
    "                    PosicoesRetiradaTarefas.append(j)\n",
    "                    #print(PosicoesRetiradaTarefas)\n",
    "\n",
    "            if len(PosicoesRetiradaTarefas) > 0:\n",
    "                break  \n",
    "                \n",
    "        TempBestNL = copy.deepcopy(BestNL)        \n",
    "        _xx= copy.deepcopy(TempBestNL[L])        \n",
    "        #print(\"_xcopy\",_xx,\"tarefas = \",PosicoesRetiradaTarefas)    \n",
    "        _NL,_NLFO = Insert(PosicoesRetiradaTarefas,_xx,M,IndiceMaquina,p_ij,s_ijk)\n",
    "        #print(\"nova_viz_insert\",\"NL = \",_NL,\"NLFO=\",_NLFO,\"BestNLFO = \",BestNLFO,\"L\",L)\n",
    "        if _NLFO[0] < BestNLFO[0]:\n",
    "            BestNL = copy.deepcopy(_NL)\n",
    "            BestNLFO = copy.deepcopy(_NLFO)\n",
    "            if Lmax > len(BestNLFO):\n",
    "                _Lmax = len(BestNLFO)\n",
    "            L = 0\n",
    "        else:\n",
    "            L +=1\n",
    "        \n",
    "    return BestNL,BestNLFO"
   ]
  },
  {
   "cell_type": "code",
   "execution_count": 13,
   "id": "8eb5aa19",
   "metadata": {},
   "outputs": [],
   "source": [
    "def  Swap(NL,NLFO,p_ij,s_ijk):\n",
    "    BestNL = copy.deepcopy(NL)\n",
    "    BestNLFO = copy.deepcopy(NLFO)\n",
    "    \n",
    "    while True:\n",
    "        _NL=[]\n",
    "        _NLFO = []\n",
    "        x = copy.deepcopy(BestNL[0].copy())\n",
    "        for i in range(len(M)):\n",
    "            for j in range((len(x[i])-1)):\n",
    "                for k in range(len(x[i])):\n",
    "                    if j==k:\n",
    "                        continue\n",
    "                    xx = copy.deepcopy(x)\n",
    "                    xx[i][j],xx[i][k] = xx[i][k],xx[i][j]\n",
    "                    _NL.append(xx)\n",
    "                    _NLFO.append(FO(xx.copy(),p_ij,s_ijk))\n",
    "                    #print(xx)\n",
    "\n",
    "        _NL,_NLFO = OrdenaVizinhancas(_NL,_NLFO)                       \n",
    "        if _NLFO[0] < BestNLFO[0]:\n",
    "            BestNL =  copy.deepcopy(_NL)\n",
    "            BestNLFO = copy.deepcopy(_NLFO)\n",
    "            \n",
    "        else:\n",
    "            break\n",
    "        \n",
    "    return BestNL,BestNLFO            "
   ]
  },
  {
   "cell_type": "code",
   "execution_count": 14,
   "id": "fbb34467",
   "metadata": {},
   "outputs": [],
   "source": [
    "def BuscaVNDTresFases(NL,NLFO,Lmax,N,M,p_ij,s_ijk):\n",
    "    #PrintMakespan(NL,NLFO,p_ij,s_ijk)    \n",
    "    NL,NLFO = Swap(NL,NLFO,p_ij,s_ijk)\n",
    "    #print(\"i\",NLFO[0],NL[0]) \n",
    "    #PrintMakespan(NL,NLFO,p_ij,s_ijk)\n",
    "    makespan,indice  = RetornaMaquinaMaiorMakespan(NL,p_ij,s_ijk)\n",
    "    #print(\"Maq =\",indice,\"valor=\",makespan) \n",
    "    NL,NLFO = BuscaLocalInsert(indice,M,p_ij,s_ijk,NL,NLFO,Lmax)\n",
    "    #PrintMakespan(NL,NLFO,p_ij,s_ijk)\n",
    "    NL,NLFO = Swap(NL,NLFO,p_ij,s_ijk)\n",
    "    #makespan,indice  = RetornaMaquinaMaiorMakespan(NL,p_ij,s_ijk)\n",
    "    NL,NLFO = BuscaLocalSwitch(NL,NLFO,p_ij,s_ijk,Lmax)\n",
    "    #PrintMakespan(NL,NLFO,p_ij,s_ijk)\n",
    "    #print(\"Maq =\",indice,\"valor=\",makespan) \n",
    "    return NL,NLFO    "
   ]
  },
  {
   "cell_type": "code",
   "execution_count": 15,
   "id": "ec2be110",
   "metadata": {
    "scrolled": true
   },
   "outputs": [],
   "source": [
    "def CalculaVND(Lmax,N,M,p_ij,s_ijk):\n",
    "\n",
    "    NL,NLFO = RetornaSolucaoInicial(Lmax,N,M,p_ij,s_ijk)\n",
    "    NL,NLFO = OrdenaVizinhancas(NL,NLFO)  \n",
    "\n",
    "    BestNL,BestNLFO = copy.deepcopy(NL),copy.deepcopy(NLFO)\n",
    "\n",
    "    while True:\n",
    "        NL,NLFO = BuscaVNDTresFases(NL,NLFO,Lmax,N,M,p_ij,s_ijk)\n",
    "        if NLFO[0] < BestNLFO[0]:\n",
    "            BestNL,BestNLFO = copy.deepcopy(NL),copy.deepcopy(NLFO)\n",
    "            #PrintMakespan(NL,NLFO,p_ij,s_ijk)\n",
    "        else:\n",
    "            break\n",
    "    \n",
    "    makespan,indice  = RetornaMaquinaMaiorMakespan(BestNL,p_ij,s_ijk)\n",
    "    print(\"*\",makespan,BestNL[0],)     \n",
    "    "
   ]
  },
  {
   "cell_type": "code",
   "execution_count": 16,
   "id": "a4dc6ce3",
   "metadata": {},
   "outputs": [],
   "source": [
    " def RetornaDados(caminho):\n",
    "    with open(caminho) as f:\n",
    "        primeiraLinha = [int(x) for x in next(f).split()] # read first line\n",
    "        jobs = primeiraLinha[0]\n",
    "        segundaLinha = [int(x) for x in next(f).split()] # read first line\n",
    "        maq = segundaLinha[0]\n",
    "        #print(jobs,maq)\n",
    "        M =  [x for x in range(maq)]\n",
    "        N =  [x for x in range(jobs)]\n",
    "        p = []\n",
    "        count = 0\n",
    "        while count < jobs: # read rest of lines\n",
    "            p.append([float(x) for x in next(f).split()])\n",
    "            count = count + 1\n",
    "        #print(p)\n",
    "        \n",
    "        p_ij=[]\n",
    "\n",
    "        for i in range(1,maq+1):\n",
    "            v=[]\n",
    "            for j in range(jobs):\n",
    "                v.append(p[j][(i*2)-1])\n",
    "                #print(\"pj = \",p[j][(i*2)-1])\n",
    "            p_ij.append(v)\n",
    "            #print(\"pij = \",p_ij)\n",
    "            \n",
    "        linhaVazia = [x for x in next(f).split()] # read first line            \n",
    "\n",
    "        s_ijk = []\n",
    "        for i in range(maq):\n",
    "            linhaVazia=[x for x in next(f).split()]\n",
    "            s_jk=[]\n",
    "            for j in range(jobs):\n",
    "                s_jk.append([float(x) for x in next(f).split()])\n",
    "            s_ijk.append(s_jk.copy())\n",
    "        #print(\"sijk\",s_ijk)\n",
    "    return N,M,p_ij,s_ijk\n",
    "        "
   ]
  },
  {
   "cell_type": "code",
   "execution_count": 19,
   "id": "2c08a36b",
   "metadata": {},
   "outputs": [
    {
     "name": "stdout",
     "output_type": "stream",
     "text": [
      "* 117.0 [[2, 6, 0, 5, 4, 7], [8, 9, 1, 3]]\n",
      "Tempo: 0.0904545783996582\n"
     ]
    }
   ],
   "source": [
    "inicio = time.time()\n",
    "N,M,p_ij,s_ijk = RetornaDados(r'Instancias\\Inst_small\\I_010_02_S_1-009_01.txt')\n",
    "CalculaVND(int(len(N)*0.8),N,M,p_ij,s_ijk)    \n",
    "fim = time.time()\n",
    "print(\"Tempo:\",fim-inicio)"
   ]
  },
  {
   "cell_type": "code",
   "execution_count": 20,
   "id": "bc4f24c6",
   "metadata": {},
   "outputs": [
    {
     "name": "stdout",
     "output_type": "stream",
     "text": [
      "i 409.0 [[0, 1, 2, 3], [4, 8, 7, 6, 5, 9]]\n",
      "i 329.0 [[9, 6, 0, 1, 2, 3], [4, 8, 5, 7]]\n",
      "i 318.0 [[9, 6, 0, 2, 3], [4, 8, 1, 5, 7]]\n",
      "* 205.0 [[9, 6, 0, 2, 3], [4, 8, 1, 5, 7]]\n",
      "Tempo: 0.08673310279846191\n"
     ]
    }
   ],
   "source": [
    "inicio = time.time()\n",
    "N,M,p_ij,s_ijk = RetornaDados(r'Instancias\\Inst_small\\I_010_02_S_1-009_02.txt')\n",
    "CalculaVND(int(len(N)*0.8),N,M,p_ij,s_ijk)    \n",
    "fim = time.time()\n",
    "print(\"Tempo:\",fim-inicio)"
   ]
  },
  {
   "cell_type": "code",
   "execution_count": 19,
   "id": "36c9be96",
   "metadata": {},
   "outputs": [
    {
     "name": "stdout",
     "output_type": "stream",
     "text": [
      "i 490.0 [[3, 2, 1, 0], [6, 5, 8, 7, 4, 9]]\n",
      "i 315.0 [[4, 7, 6, 9, 3, 1], [0, 5, 8, 2]]\n",
      "i 293.0 [[7, 6, 3, 1], [4, 9, 5, 8, 0, 2]]\n",
      "* 177.0 [[7, 6, 3, 1], [4, 9, 5, 8, 0, 2]]\n",
      "Tempo: 0.10372090339660645\n"
     ]
    }
   ],
   "source": [
    "inicio = time.time()\n",
    "N,M,p_ij,s_ijk = RetornaDados(r'Instancias\\Inst_small\\I_010_02_S_1-009_03.txt')\n",
    "CalculaVND(int(len(N)*0.8),N,M,p_ij,s_ijk)   \n",
    "fim = time.time()\n",
    "print(\"Tempo:\",fim-inicio)"
   ]
  },
  {
   "cell_type": "code",
   "execution_count": 21,
   "id": "e9b4634f",
   "metadata": {},
   "outputs": [
    {
     "name": "stdout",
     "output_type": "stream",
     "text": [
      "i 5123.0 [[14, 1, 2, 3, 4, 5, 8, 7, 9, 6, 10, 13, 12, 11, 0, 15, 16], [17, 18, 19, 23, 21, 39, 29, 37, 25, 35, 27, 24, 20, 30, 33, 32, 31, 34, 26, 36, 22, 38, 28]]\n",
      "i 4894.0 [[14, 1, 34, 19, 2, 3, 26, 4, 5, 35, 30, 24, 25, 8, 7, 23, 6, 9, 31, 15, 22, 10, 13, 12, 11, 36, 0, 27, 16], [17, 18, 21, 39, 29, 37, 20, 33, 32, 38, 28]]\n",
      "i 4832.0 [[14, 1, 34, 19, 3, 26, 4, 5, 35, 30, 24, 25, 8, 7, 23, 9, 31, 15, 22, 10, 13, 12, 11, 36, 0, 27], [2, 17, 18, 6, 21, 39, 16, 29, 37, 20, 33, 32, 38, 28]]\n",
      "* 3189.0 [[14, 1, 34, 19, 3, 26, 4, 5, 35, 30, 24, 25, 8, 7, 23, 9, 31, 15, 22, 10, 13, 12, 11, 36, 0, 27], [2, 17, 18, 6, 21, 39, 16, 29, 37, 20, 33, 32, 38, 28]]\n",
      "Tempo: 45.062111377716064\n"
     ]
    }
   ],
   "source": [
    "inicio = time.time()\n",
    "N,M,p_ij,s_ijk = RetornaDados(r'Instancias\\Inst_Rabadi\\40on2Rp50Rs50_1_Rabadi.txt')\n",
    "CalculaVND(int(len(N)*0.8),N,M,p_ij,s_ijk)   \n",
    "fim = time.time()\n",
    "print(\"Tempo:\",fim-inicio)"
   ]
  },
  {
   "cell_type": "code",
   "execution_count": 39,
   "id": "d071a1f4",
   "metadata": {},
   "outputs": [
    {
     "name": "stdout",
     "output_type": "stream",
     "text": [
      "* 2722.0 [[29, 32, 35, 34, 1, 13, 37, 4, 27, 3, 26, 2, 22, 31, 9, 10, 8, 21, 12, 5, 14, 25, 23], [16, 0, 6, 19, 7, 11, 15, 20, 24, 39, 28, 17, 30, 38, 36, 18, 33]]\n",
      "Tempo: 45.49026536941528\n"
     ]
    }
   ],
   "source": [
    "inicio = time.time()\n",
    "N,M,p_ij,s_ijk = RetornaDados(r'Instancias\\Inst_Rabadi\\40on2Rp50Rs50_2_Rabadi.txt')\n",
    "CalculaVND(int(len(N)*0.8),N,M,p_ij,s_ijk)   \n",
    "fim = time.time()\n",
    "print(\"Tempo:\",fim-inicio)"
   ]
  },
  {
   "cell_type": "code",
   "execution_count": 40,
   "id": "7bf92433",
   "metadata": {
    "scrolled": true
   },
   "outputs": [
    {
     "name": "stdout",
     "output_type": "stream",
     "text": [
      "* 2763.0 [[0, 24, 35, 1, 22, 6, 7, 13, 9, 12, 20, 29, 34, 11, 25, 8, 14, 15, 16, 32, 28, 38, 33], [31, 17, 5, 21, 39, 27, 18, 2, 19, 10, 30, 23, 3, 36, 26, 37, 4]]\n",
      "Tempo: 48.26170873641968\n"
     ]
    }
   ],
   "source": [
    "inicio = time.time()\n",
    "N,M,p_ij,s_ijk = RetornaDados(r'Instancias\\Inst_Rabadi\\40on2Rp50Rs50_3_Rabadi.txt')\n",
    "CalculaVND(int(len(N)*0.8),N,M,p_ij,s_ijk)   \n",
    "fim = time.time()\n",
    "print(\"Tempo:\",fim-inicio)"
   ]
  },
  {
   "cell_type": "code",
   "execution_count": 19,
   "id": "9481512c",
   "metadata": {},
   "outputs": [
    {
     "name": "stdout",
     "output_type": "stream",
     "text": [
      "* 126.0 [[0, 4], [2, 3], [1, 9], [8, 6, 5, 7]]\n",
      "Tempo: 0.16326093673706055\n"
     ]
    }
   ],
   "source": [
    "inicio = time.time()\n",
    "N,M,p_ij,s_ijk = RetornaDados(r'Instancias\\Inst_small\\I_010_04_S_1-009_01.txt')\n",
    "CalculaVND(int(len(N)*0.8),N,M,p_ij,s_ijk)   \n",
    "fim = time.time()\n",
    "print(\"Tempo:\",fim-inicio)"
   ]
  },
  {
   "cell_type": "code",
   "execution_count": 29,
   "id": "f8f4d61a",
   "metadata": {},
   "outputs": [
    {
     "name": "stdout",
     "output_type": "stream",
     "text": [
      "* 124.0 [[9, 1], [2, 5, 3, 7, 4, 8], [6], [0]]\n",
      "Tempo: 0.3414275646209717\n"
     ]
    }
   ],
   "source": [
    "inicio = time.time()\n",
    "N,M,p_ij,s_ijk = RetornaDados(r'Instancias\\Inst_small\\I_010_04_S_1-009_02.txt')\n",
    "CalculaVND(int(len(N)*0.8),N,M,p_ij,s_ijk)   \n",
    "fim = time.time()\n",
    "print(\"Tempo:\",fim-inicio)"
   ]
  },
  {
   "cell_type": "code",
   "execution_count": 30,
   "id": "35c0796c",
   "metadata": {},
   "outputs": [
    {
     "name": "stdout",
     "output_type": "stream",
     "text": [
      "* 60.0 [[4, 6], [5, 2], [7, 0, 3, 8], [9, 1]]\n",
      "Tempo: 0.22633790969848633\n"
     ]
    }
   ],
   "source": [
    "inicio = time.time()\n",
    "N,M,p_ij,s_ijk = RetornaDados(r'Instancias\\Inst_small\\I_010_04_S_1-009_03.txt')\n",
    "CalculaVND(int(len(N)*0.8),N,M,p_ij,s_ijk)   \n",
    "fim = time.time()\n",
    "print(\"Tempo:\",fim-inicio)"
   ]
  },
  {
   "cell_type": "code",
   "execution_count": 33,
   "id": "2c64ae46",
   "metadata": {},
   "outputs": [
    {
     "name": "stdout",
     "output_type": "stream",
     "text": [
      "* 425.0 [[16, 17, 1, 13, 19, 3, 2, 14, 10], [12, 6, 0, 15, 8, 11, 4, 9, 7, 5, 18]]\n",
      "Tempo: 1.7677357196807861\n"
     ]
    }
   ],
   "source": [
    "inicio = time.time()\n",
    "N,M,p_ij,s_ijk = RetornaDados(r'Instancias\\Inst_small\\I_020_02_S_1-009_01.txt')\n",
    "CalculaVND(int(len(N)*0.8),N,M,p_ij,s_ijk)   \n",
    "fim = time.time()\n",
    "print(\"Tempo:\",fim-inicio)"
   ]
  },
  {
   "cell_type": "code",
   "execution_count": 34,
   "id": "f77b3549",
   "metadata": {},
   "outputs": [
    {
     "name": "stdout",
     "output_type": "stream",
     "text": [
      "* 334.0 [[16, 11, 2, 18, 5, 19, 13, 1, 7], [8, 10, 9, 12, 14, 0, 6, 17, 4, 15, 3]]\n",
      "Tempo: 3.183124542236328\n"
     ]
    }
   ],
   "source": [
    "inicio = time.time()\n",
    "N,M,p_ij,s_ijk = RetornaDados(r'Instancias\\Inst_small\\I_020_02_S_1-009_02.txt')\n",
    "CalculaVND(int(len(N)*0.8),N,M,p_ij,s_ijk)   \n",
    "fim = time.time()\n",
    "print(\"Tempo:\",fim-inicio)"
   ]
  },
  {
   "cell_type": "code",
   "execution_count": 35,
   "id": "0324cdad",
   "metadata": {},
   "outputs": [
    {
     "name": "stdout",
     "output_type": "stream",
     "text": [
      "* 371.0 [[4, 15, 18, 8, 0, 16, 9, 2], [13, 19, 14, 11, 7, 6, 12, 1, 10, 3, 17, 5]]\n",
      "Tempo: 1.8535187244415283\n"
     ]
    }
   ],
   "source": [
    "inicio = time.time()\n",
    "N,M,p_ij,s_ijk = RetornaDados(r'Instancias\\Inst_small\\I_020_02_S_1-009_03.txt')\n",
    "CalculaVND(int(len(N)*0.8),N,M,p_ij,s_ijk)   \n",
    "fim = time.time()\n",
    "print(\"Tempo:\",fim-inicio)"
   ]
  },
  {
   "cell_type": "code",
   "execution_count": 36,
   "id": "8554ecf0",
   "metadata": {},
   "outputs": [
    {
     "name": "stdout",
     "output_type": "stream",
     "text": [
      "* 165.0 [[14, 5, 7, 2], [6, 8, 1, 9, 16, 19], [4, 18, 13, 17, 11, 12], [15, 3, 0, 10]]\n",
      "Tempo: 7.986255407333374\n"
     ]
    }
   ],
   "source": [
    "inicio = time.time()\n",
    "N,M,p_ij,s_ijk = RetornaDados(r'Instancias\\Inst_small\\I_020_04_S_1-009_01.txt')\n",
    "CalculaVND(int(len(N)*0.8),N,M,p_ij,s_ijk)   \n",
    "fim = time.time()\n",
    "print(\"Tempo:\",fim-inicio)"
   ]
  },
  {
   "cell_type": "code",
   "execution_count": 37,
   "id": "352a3879",
   "metadata": {},
   "outputs": [
    {
     "name": "stdout",
     "output_type": "stream",
     "text": [
      "* 126.0 [[16, 14, 12], [7, 18, 4, 2, 3, 0, 13, 9], [1, 8, 17, 6, 10, 15], [19, 11, 5]]\n",
      "Tempo: 2.4614951610565186\n"
     ]
    }
   ],
   "source": [
    "inicio = time.time()\n",
    "N,M,p_ij,s_ijk = RetornaDados(r'Instancias\\Inst_small\\I_020_04_S_1-009_02.txt')\n",
    "CalculaVND(int(len(N)*0.8),N,M,p_ij,s_ijk)   \n",
    "fim = time.time()\n",
    "print(\"Tempo:\",fim-inicio)"
   ]
  },
  {
   "cell_type": "code",
   "execution_count": 38,
   "id": "26d2e315",
   "metadata": {},
   "outputs": [
    {
     "name": "stdout",
     "output_type": "stream",
     "text": [
      "* 165.0 [[11, 0, 13, 7], [3, 2, 17, 10], [15, 1, 14, 18, 8, 4], [9, 6, 12, 16, 5, 19]]\n",
      "Tempo: 2.3845157623291016\n"
     ]
    }
   ],
   "source": [
    "inicio = time.time()\n",
    "N,M,p_ij,s_ijk = RetornaDados(r'Instancias\\Inst_small\\I_020_04_S_1-009_03.txt')\n",
    "CalculaVND(int(len(N)*0.8),N,M,p_ij,s_ijk)   \n",
    "fim = time.time()\n",
    "print(\"Tempo:\",fim-inicio)"
   ]
  },
  {
   "cell_type": "code",
   "execution_count": null,
   "id": "c2cf915c",
   "metadata": {},
   "outputs": [],
   "source": []
  }
 ],
 "metadata": {
  "kernelspec": {
   "display_name": "myenv",
   "language": "python",
   "name": "myenv"
  },
  "language_info": {
   "codemirror_mode": {
    "name": "ipython",
    "version": 3
   },
   "file_extension": ".py",
   "mimetype": "text/x-python",
   "name": "python",
   "nbconvert_exporter": "python",
   "pygments_lexer": "ipython3",
   "version": "3.9.7"
  }
 },
 "nbformat": 4,
 "nbformat_minor": 5
}
